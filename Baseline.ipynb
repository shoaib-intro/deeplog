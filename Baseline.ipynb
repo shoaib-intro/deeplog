{
 "cells": [
  {
   "cell_type": "markdown",
   "id": "2dbaa99a",
   "metadata": {},
   "source": [
    "## log Anomaly Detection (LAD)"
   ]
  },
  {
   "cell_type": "code",
   "execution_count": 4,
   "id": "2c2a1e63",
   "metadata": {},
   "outputs": [],
   "source": [
    "#import python modules\n",
    "import sys, os, subprocess, pkg_resources, time, argparse, collections, random, warnings, glob, json, shutil\n",
    "\n",
    "# download and auto install packages \n",
    "required = {'torch','pandas',  'regex', 'numpy', 'matplotlib', 'tensorboard', 'ipywidgets', 'progressbar', 'pandarallel', 'tqdm'}\n",
    "installed = {pkg.key for pkg in pkg_resources.working_set}\n",
    "missing = required - installed\n",
    "try: \n",
    "    if missing:\n",
    "        python = sys.executable\n",
    "        subprocess.check_call([python, '-m', 'pip', 'install', *missing], stdout=subprocess.DEVNULL)\n",
    "except Exception as _e:\n",
    "    print(_e)\n",
    "\n",
    "# Import as a variable\n",
    "import torch\n",
    "import torch.nn as nn\n",
    "import torch.optim as optim\n",
    "from torch.utils.tensorboard import SummaryWriter\n",
    "from torch.utils.data import TensorDataset, DataLoader\n",
    "from collections import OrderedDict, defaultdict\n",
    "\n",
    "import pandas as pd\n",
    "import numpy as np\n",
    "import regex as re\n",
    "import progressbar\n",
    "from tqdm import tqdm\n",
    "import matplotlib.mlab as mlab\n",
    "import matplotlib.pyplot as plt\n",
    "\n",
    "#  parser and model files\n",
    "from logparser import Spell, Drain\n",
    "from loganomaly import Parser, Trainer, Predictor \n",
    "warnings.simplefilter('ignore')"
   ]
  },
  {
   "cell_type": "markdown",
   "id": "a188c5d0",
   "metadata": {},
   "source": [
    "#### Parameters "
   ]
  },
  {
   "cell_type": "code",
   "execution_count": 6,
   "id": "83aedd97",
   "metadata": {},
   "outputs": [],
   "source": [
    "options = dict()\n",
    "options['device'] = 'cuda' if torch.cuda.is_available() else 'cpu'\n",
    "\n",
    "options[\"output_dir\"] = \"./output/\"\n",
    "options[\"input_dir\"] = \"./input/\"\n",
    "options['logkeys'] = True\n",
    "\n",
    "options[\"window_size\"] = 6\n",
    "options['num_epochs'] = 100\n",
    "options['batch_size'] = 32\n",
    "options['input_size'] = 1\n",
    "\n",
    "options['log_file'] = 'comp_logs_CMU_CFP5.txt'\n",
    "options['log_format'] = '<Source> <Date> <Time> <Content>' \n",
    "options['parser_algo'] = 'drain'\n"
   ]
  },
  {
   "cell_type": "markdown",
   "id": "f7f227c1",
   "metadata": {},
   "source": [
    "## 1. Parsing"
   ]
  },
  {
   "cell_type": "code",
   "execution_count": 9,
   "id": "58ca9977",
   "metadata": {},
   "outputs": [],
   "source": [
    "#Parser(options).parse()"
   ]
  },
  {
   "cell_type": "markdown",
   "id": "0e1295d1",
   "metadata": {},
   "source": [
    "## 2. Training"
   ]
  },
  {
   "cell_type": "code",
   "execution_count": 8,
   "id": "b3981592",
   "metadata": {
    "scrolled": true
   },
   "outputs": [],
   "source": [
    "#Trainer(options).train()"
   ]
  },
  {
   "cell_type": "markdown",
   "id": "602886fb",
   "metadata": {},
   "source": [
    "## 3. Prediction"
   ]
  },
  {
   "cell_type": "code",
   "execution_count": 10,
   "id": "40482fab",
   "metadata": {},
   "outputs": [],
   "source": [
    "#Predictor(options).predict()"
   ]
  }
 ],
 "metadata": {
  "kernelspec": {
   "display_name": "Python 3 (ipykernel)",
   "language": "python",
   "name": "python3"
  },
  "language_info": {
   "codemirror_mode": {
    "name": "ipython",
    "version": 3
   },
   "file_extension": ".py",
   "mimetype": "text/x-python",
   "name": "python",
   "nbconvert_exporter": "python",
   "pygments_lexer": "ipython3",
   "version": "3.9.12"
  }
 },
 "nbformat": 4,
 "nbformat_minor": 5
}
